{
 "cells": [
  {
   "cell_type": "code",
   "execution_count": 165,
   "metadata": {
    "collapsed": false
   },
   "outputs": [],
   "source": [
    "# imports\n",
    "%matplotlib inline\n",
    "import matplotlib as plt\n",
    "import numpy as np\n",
    "import pandas as pd\n",
    "import collections\n",
    "import cv2\n",
    "\n",
    "from scipy import ndimage\n",
    "import skimage\n",
    "from skimage import io, img_as_ubyte\n",
    "from skimage.feature import peak_local_max\n"
   ]
  },
  {
   "cell_type": "markdown",
   "metadata": {},
   "source": [
    "### Read a neuropil image"
   ]
  },
  {
   "cell_type": "code",
   "execution_count": 271,
   "metadata": {
    "collapsed": false,
    "scrolled": true
   },
   "outputs": [],
   "source": [
    "# reading lowerneuropil.tif using tifffile package of skimage\n",
    "\n",
    "neuropil = io.imread('57F07\\I01\\LowerNeuropil_57F07_001.tif')"
   ]
  },
  {
   "cell_type": "code",
   "execution_count": 272,
   "metadata": {
    "collapsed": false
   },
   "outputs": [
    {
     "data": {
      "text/plain": [
       "(101, 273, 507)"
      ]
     },
     "execution_count": 272,
     "metadata": {},
     "output_type": "execute_result"
    }
   ],
   "source": [
    "neuropil.shape"
   ]
  },
  {
   "cell_type": "code",
   "execution_count": 273,
   "metadata": {
    "collapsed": false
   },
   "outputs": [
    {
     "data": {
      "text/plain": [
       "<matplotlib.image.AxesImage at 0x309b48d0>"
      ]
     },
     "execution_count": 273,
     "metadata": {},
     "output_type": "execute_result"
    },
    {
     "data": {
      "image/png": "[encoded data removed]",
      "text/plain": [
       "<matplotlib.figure.Figure at 0x30a00c88>"
      ]
     },
     "metadata": {},
     "output_type": "display_data"
    }
   ],
   "source": [
    "# display of frames of lower neuropil with colormap = hot\n",
    "\n",
    "io.imshow(neuropil[56], cmap = 'hot')"
   ]
  },
  {
   "cell_type": "markdown",
   "metadata": {},
   "source": [
    "### Finding the brightest region in a frame"
   ]
  },
  {
   "cell_type": "code",
   "execution_count": 274,
   "metadata": {
    "collapsed": false
   },
   "outputs": [],
   "source": [
    "\"\"\"\n",
    "apply a Gaussian blur to the image then find the brightest region\n",
    "\"\"\"\n",
    "def getFiringRegion(neuropil_frame):\n",
    "    #test_image = neuropil[56]\n",
    "    gray = cv2.GaussianBlur(neuropil_frame, (13,13),0)\n",
    "    (minVal, maxVal, minLoc, maxLoc) = cv2.minMaxLoc(gray)\n",
    "    #image = orig.copy()\n",
    "    cv2.circle(neuropil_frame, maxLoc, 5, (255, 0, 0), 2)\n",
    "    #print(maxLoc)\n",
    "    # display the results of our newly improved method\n",
    "    #cv2.imshow(\"Robust\", test_image)\n",
    "    #cv2.waitKey(0)\n",
    "    return maxLoc[1], neuropil_frame"
   ]
  },
  {
   "cell_type": "code",
   "execution_count": 275,
   "metadata": {
    "collapsed": false,
    "scrolled": true
   },
   "outputs": [],
   "source": [
    "\"\"\"\n",
    "iterate over neuropil frames and call 'getFiringRegion' method to get the slice in which firing occurs.\n",
    "\n",
    "Create a image which has all firings marked as 'circle' in each frame\n",
    "\"\"\"\n",
    "firing_Location_list = np.zeros((neuropil.shape[0]))\n",
    "firing_image = np.zeros(((neuropil.shape[0]), neuropil.shape[1], neuropil.shape[2]), dtype = np.uint8)\n",
    "for frame in range(0,neuropil.shape[0]):\n",
    "    current_frame = neuropil[frame]\n",
    "    #print(current_frame.shape)\n",
    "    firing_Location_list[frame],firing_image[frame] = getFiringRegion(current_frame)"
   ]
  },
  {
   "cell_type": "code",
   "execution_count": 276,
   "metadata": {
    "collapsed": true
   },
   "outputs": [],
   "source": [
    "io.imsave('57F07\\I01\\Firing_image_01.tif',firing_image)"
   ]
  },
  {
   "cell_type": "code",
   "execution_count": 277,
   "metadata": {
    "collapsed": false
   },
   "outputs": [
    {
     "data": {
      "text/plain": [
       "<matplotlib.image.AxesImage at 0x309d8d68>"
      ]
     },
     "execution_count": 277,
     "metadata": {},
     "output_type": "execute_result"
    },
    {
     "data": {
      "image/png": "[encoded data removed]",
      "text/plain": [
       "<matplotlib.figure.Figure at 0x30b7ac88>"
      ]
     },
     "metadata": {},
     "output_type": "display_data"
    }
   ],
   "source": [
    "io.imshow(firing_image[12])"
   ]
  },
  {
   "cell_type": "code",
   "execution_count": 278,
   "metadata": {
    "collapsed": false
   },
   "outputs": [
    {
     "data": {
      "text/plain": [
       "numpy.ndarray"
      ]
     },
     "execution_count": 278,
     "metadata": {},
     "output_type": "execute_result"
    }
   ],
   "source": [
    "type(firing_Location_list)"
   ]
  },
  {
   "cell_type": "markdown",
   "metadata": {},
   "source": [
    "### Finding the slice in which firing occured in full video"
   ]
  },
  {
   "cell_type": "code",
   "execution_count": 279,
   "metadata": {
    "collapsed": false,
    "scrolled": true
   },
   "outputs": [],
   "source": [
    "_list = []\n",
    "for frame in range(0,firing_image.shape[0]):\n",
    "    #slice1 = temp[0:39]\n",
    "    #slice2 = temp[39:78]\n",
    "    #slice3 = temp[78:117]\n",
    "    #slice4 = temp[117:156]\n",
    "    #slice5 = temp[156:195]\n",
    "    #slice6 = temp[195:234]\n",
    "    #slice7 = temp[234:273]\n",
    "    \n",
    "    # check for the position of firing in frame\n",
    "    if firing_Location_list[frame] in range(0,39+1):\n",
    "        #print(\"slice1\")\n",
    "        _list.append(1)\n",
    "        #print(_list)\n",
    "    elif firing_Location_list[frame] in range(39,78+1):\n",
    "        #print(\"slice2\")\n",
    "        _list.append(2)\n",
    "        #print(_list)\n",
    "    elif firing_Location_list[frame] in range(78,117+1):\n",
    "        #print(\"slice3\")\n",
    "        _list.append(3)\n",
    "        #print(_list)\n",
    "    elif firing_Location_list[frame] in range(117,156+1):\n",
    "        #print(\"slice4\")\n",
    "        _list.append(4)\n",
    "        #print(_list)\n",
    "    elif firing_Location_list[frame] in range(156,195+1):\n",
    "        #print(\"slice5\")\n",
    "        _list.append(5)\n",
    "        #print(_list)\n",
    "    elif firing_Location_list[frame] in range(195,234+1):\n",
    "        #print(\"slice6\")\n",
    "        _list.append(6)\n",
    "        #print(_list)\n",
    "    elif firing_Location_list[frame] in range(234,273+1):\n",
    "        #print(\"slice7\")\n",
    "        _list.append(7)\n",
    "        #print(_list)"
   ]
  },
  {
   "cell_type": "code",
   "execution_count": 280,
   "metadata": {
    "collapsed": false
   },
   "outputs": [],
   "source": [
    "# transform the list in such a way that it shows number of occurences of each digit until a new digit occurs\n",
    "\n",
    "firing = np.asarray(_list)"
   ]
  },
  {
   "cell_type": "code",
   "execution_count": 281,
   "metadata": {
    "collapsed": false,
    "scrolled": true
   },
   "outputs": [
    {
     "data": {
      "text/plain": [
       "array([4, 7, 4, 7, 4, 7, 7, 7, 4, 7, 7, 4, 4, 3, 7, 5, 4, 5, 7, 7, 7, 7, 7,\n",
       "       7, 7, 7, 7, 7, 7, 7, 7, 7, 7, 7, 6, 7, 4, 5, 4, 5, 4, 5, 5, 6, 7, 6,\n",
       "       7, 7, 6, 7, 7, 7, 7, 7, 7, 7, 7, 7, 7, 7, 7, 7, 7, 7, 7, 7, 7, 7, 7,\n",
       "       7, 7, 7, 4, 7, 4, 6, 7, 6, 7, 7, 7, 7, 7, 7, 7, 6, 7, 7, 7, 7, 7, 7,\n",
       "       7, 7, 7, 7, 7, 7, 7, 7, 7])"
      ]
     },
     "execution_count": 281,
     "metadata": {},
     "output_type": "execute_result"
    }
   ],
   "source": [
    "# list of slices wrt firings in each frame\n",
    "firing"
   ]
  },
  {
   "cell_type": "markdown",
   "metadata": {},
   "source": [
    "### Number of occurences of Firings in a slice [frame, slice, count of firings in slice] "
   ]
  },
  {
   "cell_type": "code",
   "execution_count": 282,
   "metadata": {
    "collapsed": false
   },
   "outputs": [
    {
     "name": "stdout",
     "output_type": "stream",
     "text": [
      "[[1, 4, 1], [2, 7, 1], [3, 4, 1], [4, 7, 1], [5, 4, 1], [6, 7, 3], [9, 4, 1], [10, 7, 2], [12, 4, 2], [14, 3, 1], [15, 7, 1], [16, 5, 1], [17, 4, 1], [18, 5, 1], [19, 7, 16], [35, 6, 1], [36, 7, 1], [37, 4, 1], [38, 5, 1], [39, 4, 1], [40, 5, 1], [41, 4, 1], [42, 5, 2], [44, 6, 1], [45, 7, 1], [46, 6, 1], [47, 7, 2], [49, 6, 1], [50, 7, 23], [73, 4, 1], [74, 7, 1], [75, 4, 1], [76, 6, 1], [77, 7, 1], [78, 6, 1], [79, 7, 7], [86, 6, 1], [86, 7, 15]]\n"
     ]
    }
   ],
   "source": [
    "\"\"\"\n",
    "Working solution to find the number of frames a firing lasted in slice-n\n",
    "\"\"\"\n",
    "current_slice = firing[0]\n",
    "current_count = 0\n",
    "list_of_firings = []\n",
    "\n",
    "for x in range(0,len(firing)):\n",
    "\n",
    "    if firing[x] == current_slice:\n",
    "        current_count +=1\n",
    "        if x == len(firing)-1:\n",
    "            frame_number = (x-current_count)+1\n",
    "            list_of_firings.append([frame_number, current_slice,current_count])\n",
    "    \n",
    "    else:\n",
    "        frame_number = (x-current_count)+1\n",
    "        list_of_firings.append([frame_number, current_slice,current_count])\n",
    "        current_count = 1\n",
    "        current_slice = firing[x]\n",
    "        \n",
    "print(list_of_firings)\n"
   ]
  },
  {
   "cell_type": "code",
   "execution_count": 283,
   "metadata": {
    "collapsed": false
   },
   "outputs": [
    {
     "data": {
      "text/plain": [
       "[86, 7, 15]"
      ]
     },
     "execution_count": 283,
     "metadata": {},
     "output_type": "execute_result"
    }
   ],
   "source": [
    "list_of_firings[-1]"
   ]
  },
  {
   "cell_type": "markdown",
   "metadata": {},
   "source": [
    "### Wave Detection "
   ]
  },
  {
   "cell_type": "code",
   "execution_count": 284,
   "metadata": {
    "collapsed": false
   },
   "outputs": [
    {
     "name": "stdout",
     "output_type": "stream",
     "text": [
      "non-wave = [[1, 4, 1]]\n",
      "non-wave = [[2, 7, 1]]\n",
      "non-wave = [[3, 4, 1]]\n",
      "non-wave = [[4, 7, 1]]\n",
      "non-wave = [[5, 4, 1]]\n",
      "non-wave = [[6, 7, 3]]\n",
      "non-wave = [[9, 4, 1]]\n",
      "non-wave = [[10, 7, 2]]\n",
      "non-wave = [[12, 4, 2], [14, 3, 1], [14, 3, 1]]\n",
      "non-wave = [[15, 7, 1]]\n",
      "Wave = [[16, 5, 1], [17, 4, 1]]\n",
      "Wave = [[17, 4, 1], [18, 5, 1]]\n",
      "Wave = [[19, 7, 16], [35, 6, 1]]\n",
      "Wave = [[35, 6, 1], [36, 7, 1]]\n",
      "Wave = [[37, 4, 1], [38, 5, 1]]\n",
      "Wave = [[38, 5, 1], [39, 4, 1]]\n",
      "Wave = [[39, 4, 1], [40, 5, 1]]\n",
      "Wave = [[40, 5, 1], [41, 4, 1]]\n",
      "Wave = [[41, 4, 1], [42, 5, 2], [44, 6, 1], [45, 7, 1]]\n",
      "Wave = [[45, 7, 1], [46, 6, 1]]\n",
      "Wave = [[46, 6, 1], [47, 7, 2]]\n",
      "Wave = [[47, 7, 2], [49, 6, 1]]\n",
      "Wave = [[49, 6, 1], [50, 7, 23]]\n",
      "non-wave = [[73, 4, 1]]\n",
      "non-wave = [[74, 7, 1]]\n",
      "non-wave = [[75, 4, 1]]\n",
      "Wave = [[76, 6, 1], [77, 7, 1]]\n",
      "Wave = [[77, 7, 1], [78, 6, 1]]\n",
      "Wave = [[78, 6, 1], [79, 7, 7]]\n",
      "Wave = [[79, 7, 7], [86, 6, 1]]\n",
      "Wave = [[86, 6, 1], [86, 7, 15]]\n"
     ]
    }
   ],
   "source": [
    "#new\n",
    "_columns = ['Firing Time', 'End Time', 'Duration of Firing', 'Start Slice', 'End Slice', 'Number of slices covered', 'Direction', 'Firing Type']\n",
    "firing_df = pd.DataFrame(columns = _columns) # create dataframe\n",
    "\n",
    "temp = []\n",
    "\n",
    "#status takes three values 'A->P' and 'P->A' and 'non-firing'\n",
    "status = \"\"\n",
    "direction = \"\"\n",
    "\n",
    "for x in range(0, len(list_of_firings)):\n",
    "    \n",
    "    #if x+1 == len(list_of_firings):\n",
    "    #    print(list_of_firings[x])\n",
    "    \n",
    "    #print(x+1)\n",
    "    if x+1 < len(list_of_firings):\n",
    "        #print(x+1)\n",
    "        #print(x,x+1)\n",
    "        \n",
    "        #decreasing case where difference is 1\n",
    "        if (list_of_firings[x][1] - list_of_firings[x+1][1]) == 1:\n",
    "            status = 'Wave'\n",
    "            direction = 'A->P'\n",
    "            \n",
    "            #print(list_of_firings[x])\n",
    "            temp.append(list_of_firings[x])\n",
    "            temp.append(list_of_firings[x+1])\n",
    "\n",
    "            \n",
    "            if (list_of_firings[x+1][1] - list_of_firings[x+2][1]) == -1:\n",
    "                if(len(temp)>0):\n",
    "                    #print(status)\n",
    "                    newrow = [temp[0][0], (temp[-1][0] + temp[-1][2] - 1), ((temp[-1][0] + temp[-1][2]) - temp[0][0] ), temp[0][1], temp[-1][1], len(temp), direction, status]\n",
    "                    firing_df = firing_df.append(pd.Series(newrow, index = _columns), ignore_index=True)\n",
    "                    print(status, '=' , temp)\n",
    "                    #temp.clear()\n",
    "                    del temp[:]\n",
    "                #last element check\n",
    "                if(x+3 == len(list_of_firings)):\n",
    "                    temp.append(list_of_firings[x+1])\n",
    "                    temp.append(list_of_firings[x+2])\n",
    "                    newrow = [temp[0][0], (temp[-1][0] + temp[-1][2] - 1), ((temp[-1][0] + temp[-1][2]) - temp[0][0] ), temp[0][1], temp[-1][1], len(temp), direction, status]\n",
    "                    firing_df = firing_df.append(pd.Series(newrow, index = _columns), ignore_index=True)\n",
    "                    print(status, '=' , temp)\n",
    "                    del temp[:]\n",
    "\n",
    "        #increasing case where difference is -1\n",
    "        elif (list_of_firings[x][1] - list_of_firings[x+1][1]) == -1:\n",
    "            \n",
    "            status = 'Wave'\n",
    "            direction = 'P->A'\n",
    "            \n",
    "            #print(list_of_firings[x])\n",
    "\n",
    "            temp.append(list_of_firings[x])\n",
    "\n",
    "\n",
    "            if(x+1 < len(list_of_firings)-1):\n",
    "                if (list_of_firings[x+1][1] - list_of_firings[x+2][1]) != -1:\n",
    "                    temp.append(list_of_firings[x+1])\n",
    "                    newrow = [temp[0][0], (temp[-1][0] + temp[-1][2] - 1), ((temp[-1][0] + temp[-1][2]) - temp[0][0] ), temp[0][1], temp[-1][1], len(temp), direction, status]\n",
    "                    firing_df = firing_df.append(pd.Series(newrow, index = _columns), ignore_index=True)\n",
    "                    print(status,\"=\",temp)\n",
    "                    del temp[:]\n",
    "                    \n",
    "                                 \n",
    "\n",
    "                if (list_of_firings[x+1][1] - list_of_firings[x+2][1]) == 1:\n",
    "                    if(len(temp)>0):\n",
    "                        newrow = [temp[0][0], (temp[-1][0] + temp[-1][2] - 1), ((temp[-1][0] + temp[-1][2]) - temp[0][0] ), temp[0][1], temp[-1][1], len(temp), direction, status]\n",
    "                        firing_df = firing_df.append(pd.Series(newrow, index = _columns), ignore_index=True)\n",
    "                        print(status, '=' , temp)\n",
    "\n",
    "                        #temp.clear()\n",
    "                        del temp[:]\n",
    "                        \n",
    "                    #last element check\n",
    "                    if(x+3 == len(list_of_firings)):\n",
    "                        temp.append(list_of_firings[x+1])\n",
    "                        temp.append(list_of_firings[x+2])\n",
    "                        newrow = [temp[0][0], (temp[-1][0] + temp[-1][2] - 1), ((temp[-1][0] + temp[-1][2]) - temp[0][0] ), temp[0][1], temp[-1][1], len(temp), direction, status]\n",
    "                        firing_df = firing_df.append(pd.Series(newrow, index = _columns), ignore_index=True)\n",
    "                        print(status, '=' , temp)\n",
    "                        del temp[:]\n",
    "\n",
    "\n",
    "        #non wave case where difference is greater than or equal to 2               \n",
    "        elif abs(list_of_firings[x][1] - list_of_firings[x+1][1]) >= 2:\n",
    "            if (list_of_firings[x][1] - list_of_firings[x-1][1]) != 1:\n",
    "\n",
    "\n",
    "                status = 'non-wave'\n",
    "                direction = 'NAN'\n",
    "                temp.append(list_of_firings[x])\n",
    "                newrow = [temp[0][0], (temp[-1][0] + temp[-1][2] - 1), ((temp[-1][0] + temp[-1][2]) - temp[0][0] ), temp[0][1], temp[-1][1],len(temp), direction, status]\n",
    "                firing_df = firing_df.append(pd.Series(newrow, index = _columns), ignore_index=True)\n",
    "                print(status, '=', temp)\n",
    "                del temp[:]\n",
    "\n",
    "           \n",
    "       \n",
    "        \n",
    "    \n",
    "    "
   ]
  },
  {
   "cell_type": "markdown",
   "metadata": {},
   "source": [
    "### Summary of detected waves / non-waves"
   ]
  },
  {
   "cell_type": "code",
   "execution_count": 285,
   "metadata": {
    "collapsed": false,
    "scrolled": true
   },
   "outputs": [
    {
     "data": {
      "text/html": [
       "<div>\n",
       "<table border=\"1\" class=\"dataframe\">\n",
       "  <thead>\n",
       "    <tr style=\"text-align: right;\">\n",
       "      <th></th>\n",
       "      <th>Firing Time</th>\n",
       "      <th>End Time</th>\n",
       "      <th>Duration of Firing</th>\n",
       "      <th>Start Slice</th>\n",
       "      <th>End Slice</th>\n",
       "      <th>Number of slices covered</th>\n",
       "      <th>Direction</th>\n",
       "      <th>Firing Type</th>\n",
       "    </tr>\n",
       "  </thead>\n",
       "  <tbody>\n",
       "    <tr>\n",
       "      <th>0</th>\n",
       "      <td>1.0</td>\n",
       "      <td>1.0</td>\n",
       "      <td>1.0</td>\n",
       "      <td>4.0</td>\n",
       "      <td>4.0</td>\n",
       "      <td>1.0</td>\n",
       "      <td>NAN</td>\n",
       "      <td>non-wave</td>\n",
       "    </tr>\n",
       "    <tr>\n",
       "      <th>1</th>\n",
       "      <td>2.0</td>\n",
       "      <td>2.0</td>\n",
       "      <td>1.0</td>\n",
       "      <td>7.0</td>\n",
       "      <td>7.0</td>\n",
       "      <td>1.0</td>\n",
       "      <td>NAN</td>\n",
       "      <td>non-wave</td>\n",
       "    </tr>\n",
       "    <tr>\n",
       "      <th>2</th>\n",
       "      <td>3.0</td>\n",
       "      <td>3.0</td>\n",
       "      <td>1.0</td>\n",
       "      <td>4.0</td>\n",
       "      <td>4.0</td>\n",
       "      <td>1.0</td>\n",
       "      <td>NAN</td>\n",
       "      <td>non-wave</td>\n",
       "    </tr>\n",
       "    <tr>\n",
       "      <th>3</th>\n",
       "      <td>4.0</td>\n",
       "      <td>4.0</td>\n",
       "      <td>1.0</td>\n",
       "      <td>7.0</td>\n",
       "      <td>7.0</td>\n",
       "      <td>1.0</td>\n",
       "      <td>NAN</td>\n",
       "      <td>non-wave</td>\n",
       "    </tr>\n",
       "    <tr>\n",
       "      <th>4</th>\n",
       "      <td>5.0</td>\n",
       "      <td>5.0</td>\n",
       "      <td>1.0</td>\n",
       "      <td>4.0</td>\n",
       "      <td>4.0</td>\n",
       "      <td>1.0</td>\n",
       "      <td>NAN</td>\n",
       "      <td>non-wave</td>\n",
       "    </tr>\n",
       "    <tr>\n",
       "      <th>5</th>\n",
       "      <td>6.0</td>\n",
       "      <td>8.0</td>\n",
       "      <td>3.0</td>\n",
       "      <td>7.0</td>\n",
       "      <td>7.0</td>\n",
       "      <td>1.0</td>\n",
       "      <td>NAN</td>\n",
       "      <td>non-wave</td>\n",
       "    </tr>\n",
       "    <tr>\n",
       "      <th>6</th>\n",
       "      <td>9.0</td>\n",
       "      <td>9.0</td>\n",
       "      <td>1.0</td>\n",
       "      <td>4.0</td>\n",
       "      <td>4.0</td>\n",
       "      <td>1.0</td>\n",
       "      <td>NAN</td>\n",
       "      <td>non-wave</td>\n",
       "    </tr>\n",
       "    <tr>\n",
       "      <th>7</th>\n",
       "      <td>10.0</td>\n",
       "      <td>11.0</td>\n",
       "      <td>2.0</td>\n",
       "      <td>7.0</td>\n",
       "      <td>7.0</td>\n",
       "      <td>1.0</td>\n",
       "      <td>NAN</td>\n",
       "      <td>non-wave</td>\n",
       "    </tr>\n",
       "    <tr>\n",
       "      <th>8</th>\n",
       "      <td>12.0</td>\n",
       "      <td>14.0</td>\n",
       "      <td>3.0</td>\n",
       "      <td>4.0</td>\n",
       "      <td>3.0</td>\n",
       "      <td>3.0</td>\n",
       "      <td>NAN</td>\n",
       "      <td>non-wave</td>\n",
       "    </tr>\n",
       "    <tr>\n",
       "      <th>9</th>\n",
       "      <td>15.0</td>\n",
       "      <td>15.0</td>\n",
       "      <td>1.0</td>\n",
       "      <td>7.0</td>\n",
       "      <td>7.0</td>\n",
       "      <td>1.0</td>\n",
       "      <td>NAN</td>\n",
       "      <td>non-wave</td>\n",
       "    </tr>\n",
       "    <tr>\n",
       "      <th>10</th>\n",
       "      <td>16.0</td>\n",
       "      <td>17.0</td>\n",
       "      <td>2.0</td>\n",
       "      <td>5.0</td>\n",
       "      <td>4.0</td>\n",
       "      <td>2.0</td>\n",
       "      <td>A-&gt;P</td>\n",
       "      <td>Wave</td>\n",
       "    </tr>\n",
       "    <tr>\n",
       "      <th>11</th>\n",
       "      <td>17.0</td>\n",
       "      <td>18.0</td>\n",
       "      <td>2.0</td>\n",
       "      <td>4.0</td>\n",
       "      <td>5.0</td>\n",
       "      <td>2.0</td>\n",
       "      <td>P-&gt;A</td>\n",
       "      <td>Wave</td>\n",
       "    </tr>\n",
       "    <tr>\n",
       "      <th>12</th>\n",
       "      <td>19.0</td>\n",
       "      <td>35.0</td>\n",
       "      <td>17.0</td>\n",
       "      <td>7.0</td>\n",
       "      <td>6.0</td>\n",
       "      <td>2.0</td>\n",
       "      <td>A-&gt;P</td>\n",
       "      <td>Wave</td>\n",
       "    </tr>\n",
       "    <tr>\n",
       "      <th>13</th>\n",
       "      <td>35.0</td>\n",
       "      <td>36.0</td>\n",
       "      <td>2.0</td>\n",
       "      <td>6.0</td>\n",
       "      <td>7.0</td>\n",
       "      <td>2.0</td>\n",
       "      <td>P-&gt;A</td>\n",
       "      <td>Wave</td>\n",
       "    </tr>\n",
       "    <tr>\n",
       "      <th>14</th>\n",
       "      <td>37.0</td>\n",
       "      <td>38.0</td>\n",
       "      <td>2.0</td>\n",
       "      <td>4.0</td>\n",
       "      <td>5.0</td>\n",
       "      <td>2.0</td>\n",
       "      <td>P-&gt;A</td>\n",
       "      <td>Wave</td>\n",
       "    </tr>\n",
       "    <tr>\n",
       "      <th>15</th>\n",
       "      <td>38.0</td>\n",
       "      <td>39.0</td>\n",
       "      <td>2.0</td>\n",
       "      <td>5.0</td>\n",
       "      <td>4.0</td>\n",
       "      <td>2.0</td>\n",
       "      <td>A-&gt;P</td>\n",
       "      <td>Wave</td>\n",
       "    </tr>\n",
       "    <tr>\n",
       "      <th>16</th>\n",
       "      <td>39.0</td>\n",
       "      <td>40.0</td>\n",
       "      <td>2.0</td>\n",
       "      <td>4.0</td>\n",
       "      <td>5.0</td>\n",
       "      <td>2.0</td>\n",
       "      <td>P-&gt;A</td>\n",
       "      <td>Wave</td>\n",
       "    </tr>\n",
       "    <tr>\n",
       "      <th>17</th>\n",
       "      <td>40.0</td>\n",
       "      <td>41.0</td>\n",
       "      <td>2.0</td>\n",
       "      <td>5.0</td>\n",
       "      <td>4.0</td>\n",
       "      <td>2.0</td>\n",
       "      <td>A-&gt;P</td>\n",
       "      <td>Wave</td>\n",
       "    </tr>\n",
       "    <tr>\n",
       "      <th>18</th>\n",
       "      <td>41.0</td>\n",
       "      <td>45.0</td>\n",
       "      <td>5.0</td>\n",
       "      <td>4.0</td>\n",
       "      <td>7.0</td>\n",
       "      <td>4.0</td>\n",
       "      <td>P-&gt;A</td>\n",
       "      <td>Wave</td>\n",
       "    </tr>\n",
       "    <tr>\n",
       "      <th>19</th>\n",
       "      <td>45.0</td>\n",
       "      <td>46.0</td>\n",
       "      <td>2.0</td>\n",
       "      <td>7.0</td>\n",
       "      <td>6.0</td>\n",
       "      <td>2.0</td>\n",
       "      <td>A-&gt;P</td>\n",
       "      <td>Wave</td>\n",
       "    </tr>\n",
       "    <tr>\n",
       "      <th>20</th>\n",
       "      <td>46.0</td>\n",
       "      <td>48.0</td>\n",
       "      <td>3.0</td>\n",
       "      <td>6.0</td>\n",
       "      <td>7.0</td>\n",
       "      <td>2.0</td>\n",
       "      <td>P-&gt;A</td>\n",
       "      <td>Wave</td>\n",
       "    </tr>\n",
       "    <tr>\n",
       "      <th>21</th>\n",
       "      <td>47.0</td>\n",
       "      <td>49.0</td>\n",
       "      <td>3.0</td>\n",
       "      <td>7.0</td>\n",
       "      <td>6.0</td>\n",
       "      <td>2.0</td>\n",
       "      <td>A-&gt;P</td>\n",
       "      <td>Wave</td>\n",
       "    </tr>\n",
       "    <tr>\n",
       "      <th>22</th>\n",
       "      <td>49.0</td>\n",
       "      <td>72.0</td>\n",
       "      <td>24.0</td>\n",
       "      <td>6.0</td>\n",
       "      <td>7.0</td>\n",
       "      <td>2.0</td>\n",
       "      <td>P-&gt;A</td>\n",
       "      <td>Wave</td>\n",
       "    </tr>\n",
       "    <tr>\n",
       "      <th>23</th>\n",
       "      <td>73.0</td>\n",
       "      <td>73.0</td>\n",
       "      <td>1.0</td>\n",
       "      <td>4.0</td>\n",
       "      <td>4.0</td>\n",
       "      <td>1.0</td>\n",
       "      <td>NAN</td>\n",
       "      <td>non-wave</td>\n",
       "    </tr>\n",
       "    <tr>\n",
       "      <th>24</th>\n",
       "      <td>74.0</td>\n",
       "      <td>74.0</td>\n",
       "      <td>1.0</td>\n",
       "      <td>7.0</td>\n",
       "      <td>7.0</td>\n",
       "      <td>1.0</td>\n",
       "      <td>NAN</td>\n",
       "      <td>non-wave</td>\n",
       "    </tr>\n",
       "    <tr>\n",
       "      <th>25</th>\n",
       "      <td>75.0</td>\n",
       "      <td>75.0</td>\n",
       "      <td>1.0</td>\n",
       "      <td>4.0</td>\n",
       "      <td>4.0</td>\n",
       "      <td>1.0</td>\n",
       "      <td>NAN</td>\n",
       "      <td>non-wave</td>\n",
       "    </tr>\n",
       "    <tr>\n",
       "      <th>26</th>\n",
       "      <td>76.0</td>\n",
       "      <td>77.0</td>\n",
       "      <td>2.0</td>\n",
       "      <td>6.0</td>\n",
       "      <td>7.0</td>\n",
       "      <td>2.0</td>\n",
       "      <td>P-&gt;A</td>\n",
       "      <td>Wave</td>\n",
       "    </tr>\n",
       "    <tr>\n",
       "      <th>27</th>\n",
       "      <td>77.0</td>\n",
       "      <td>78.0</td>\n",
       "      <td>2.0</td>\n",
       "      <td>7.0</td>\n",
       "      <td>6.0</td>\n",
       "      <td>2.0</td>\n",
       "      <td>A-&gt;P</td>\n",
       "      <td>Wave</td>\n",
       "    </tr>\n",
       "    <tr>\n",
       "      <th>28</th>\n",
       "      <td>78.0</td>\n",
       "      <td>85.0</td>\n",
       "      <td>8.0</td>\n",
       "      <td>6.0</td>\n",
       "      <td>7.0</td>\n",
       "      <td>2.0</td>\n",
       "      <td>P-&gt;A</td>\n",
       "      <td>Wave</td>\n",
       "    </tr>\n",
       "    <tr>\n",
       "      <th>29</th>\n",
       "      <td>79.0</td>\n",
       "      <td>86.0</td>\n",
       "      <td>8.0</td>\n",
       "      <td>7.0</td>\n",
       "      <td>6.0</td>\n",
       "      <td>2.0</td>\n",
       "      <td>A-&gt;P</td>\n",
       "      <td>Wave</td>\n",
       "    </tr>\n",
       "    <tr>\n",
       "      <th>30</th>\n",
       "      <td>86.0</td>\n",
       "      <td>100.0</td>\n",
       "      <td>15.0</td>\n",
       "      <td>6.0</td>\n",
       "      <td>7.0</td>\n",
       "      <td>2.0</td>\n",
       "      <td>A-&gt;P</td>\n",
       "      <td>Wave</td>\n",
       "    </tr>\n",
       "  </tbody>\n",
       "</table>\n",
       "</div>"
      ],
      "text/plain": [
       "    Firing Time  End Time  Duration of Firing  Start Slice  End Slice  \\\n",
       "0           1.0       1.0                 1.0          4.0        4.0   \n",
       "1           2.0       2.0                 1.0          7.0        7.0   \n",
       "2           3.0       3.0                 1.0          4.0        4.0   \n",
       "3           4.0       4.0                 1.0          7.0        7.0   \n",
       "4           5.0       5.0                 1.0          4.0        4.0   \n",
       "5           6.0       8.0                 3.0          7.0        7.0   \n",
       "6           9.0       9.0                 1.0          4.0        4.0   \n",
       "7          10.0      11.0                 2.0          7.0        7.0   \n",
       "8          12.0      14.0                 3.0          4.0        3.0   \n",
       "9          15.0      15.0                 1.0          7.0        7.0   \n",
       "10         16.0      17.0                 2.0          5.0        4.0   \n",
       "11         17.0      18.0                 2.0          4.0        5.0   \n",
       "12         19.0      35.0                17.0          7.0        6.0   \n",
       "13         35.0      36.0                 2.0          6.0        7.0   \n",
       "14         37.0      38.0                 2.0          4.0        5.0   \n",
       "15         38.0      39.0                 2.0          5.0        4.0   \n",
       "16         39.0      40.0                 2.0          4.0        5.0   \n",
       "17         40.0      41.0                 2.0          5.0        4.0   \n",
       "18         41.0      45.0                 5.0          4.0        7.0   \n",
       "19         45.0      46.0                 2.0          7.0        6.0   \n",
       "20         46.0      48.0                 3.0          6.0        7.0   \n",
       "21         47.0      49.0                 3.0          7.0        6.0   \n",
       "22         49.0      72.0                24.0          6.0        7.0   \n",
       "23         73.0      73.0                 1.0          4.0        4.0   \n",
       "24         74.0      74.0                 1.0          7.0        7.0   \n",
       "25         75.0      75.0                 1.0          4.0        4.0   \n",
       "26         76.0      77.0                 2.0          6.0        7.0   \n",
       "27         77.0      78.0                 2.0          7.0        6.0   \n",
       "28         78.0      85.0                 8.0          6.0        7.0   \n",
       "29         79.0      86.0                 8.0          7.0        6.0   \n",
       "30         86.0     100.0                15.0          6.0        7.0   \n",
       "\n",
       "    Number of slices covered Direction Firing Type  \n",
       "0                        1.0       NAN    non-wave  \n",
       "1                        1.0       NAN    non-wave  \n",
       "2                        1.0       NAN    non-wave  \n",
       "3                        1.0       NAN    non-wave  \n",
       "4                        1.0       NAN    non-wave  \n",
       "5                        1.0       NAN    non-wave  \n",
       "6                        1.0       NAN    non-wave  \n",
       "7                        1.0       NAN    non-wave  \n",
       "8                        3.0       NAN    non-wave  \n",
       "9                        1.0       NAN    non-wave  \n",
       "10                       2.0      A->P        Wave  \n",
       "11                       2.0      P->A        Wave  \n",
       "12                       2.0      A->P        Wave  \n",
       "13                       2.0      P->A        Wave  \n",
       "14                       2.0      P->A        Wave  \n",
       "15                       2.0      A->P        Wave  \n",
       "16                       2.0      P->A        Wave  \n",
       "17                       2.0      A->P        Wave  \n",
       "18                       4.0      P->A        Wave  \n",
       "19                       2.0      A->P        Wave  \n",
       "20                       2.0      P->A        Wave  \n",
       "21                       2.0      A->P        Wave  \n",
       "22                       2.0      P->A        Wave  \n",
       "23                       1.0       NAN    non-wave  \n",
       "24                       1.0       NAN    non-wave  \n",
       "25                       1.0       NAN    non-wave  \n",
       "26                       2.0      P->A        Wave  \n",
       "27                       2.0      A->P        Wave  \n",
       "28                       2.0      P->A        Wave  \n",
       "29                       2.0      A->P        Wave  \n",
       "30                       2.0      A->P        Wave  "
      ]
     },
     "execution_count": 285,
     "metadata": {},
     "output_type": "execute_result"
    }
   ],
   "source": [
    "firing_df"
   ]
  },
  {
   "cell_type": "markdown",
   "metadata": {},
   "source": [
    "### Convert dataframe to csv"
   ]
  },
  {
   "cell_type": "code",
   "execution_count": 286,
   "metadata": {
    "collapsed": false
   },
   "outputs": [],
   "source": [
    "firing_df.to_csv('57F07\\I01\\I01.csv', sep = ',')"
   ]
  },
  {
   "cell_type": "code",
   "execution_count": 208,
   "metadata": {
    "collapsed": false
   },
   "outputs": [
    {
     "data": {
      "text/html": [
       "<div>\n",
       "<table border=\"1\" class=\"dataframe\">\n",
       "  <thead>\n",
       "    <tr style=\"text-align: right;\">\n",
       "      <th></th>\n",
       "      <th>Firing Time</th>\n",
       "      <th>End Time</th>\n",
       "      <th>Duration of Firing</th>\n",
       "      <th>Start Slice</th>\n",
       "      <th>End Slice</th>\n",
       "      <th>Number of slices covered</th>\n",
       "      <th>Direction</th>\n",
       "      <th>Firing Type</th>\n",
       "    </tr>\n",
       "  </thead>\n",
       "  <tbody>\n",
       "    <tr>\n",
       "      <th>18</th>\n",
       "      <td>41.0</td>\n",
       "      <td>45.0</td>\n",
       "      <td>5.0</td>\n",
       "      <td>4.0</td>\n",
       "      <td>7.0</td>\n",
       "      <td>4.0</td>\n",
       "      <td>P-&gt;A</td>\n",
       "      <td>Wave</td>\n",
       "    </tr>\n",
       "  </tbody>\n",
       "</table>\n",
       "</div>"
      ],
      "text/plain": [
       "    Firing Time  End Time  Duration of Firing  Start Slice  End Slice  \\\n",
       "18         41.0      45.0                 5.0          4.0        7.0   \n",
       "\n",
       "    Number of slices covered Direction Firing Type  \n",
       "18                       4.0      P->A        Wave  "
      ]
     },
     "execution_count": 208,
     "metadata": {},
     "output_type": "execute_result"
    }
   ],
   "source": [
    "firing_df.loc[(firing_df['Firing Type'] == 'Wave') & (firing_df['Number of slices covered'] > 2)]"
   ]
  },
  {
   "cell_type": "code",
   "execution_count": null,
   "metadata": {
    "collapsed": true
   },
   "outputs": [],
   "source": []
  }
 ],
 "metadata": {
  "anaconda-cloud": {},
  "kernelspec": {
   "display_name": "Python [Root]",
   "language": "python",
   "name": "Python [Root]"
  },
  "language_info": {
   "codemirror_mode": {
    "name": "ipython",
    "version": 3
   },
   "file_extension": ".py",
   "mimetype": "text/x-python",
   "name": "python",
   "nbconvert_exporter": "python",
   "pygments_lexer": "ipython3",
   "version": "3.5.2"
  }
 },
 "nbformat": 4,
 "nbformat_minor": 0
}
